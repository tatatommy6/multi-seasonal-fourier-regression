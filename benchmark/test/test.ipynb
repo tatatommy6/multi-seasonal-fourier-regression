{
 "cells": [
  {
   "cell_type": "markdown",
   "id": "25a9f92c",
   "metadata": {},
   "source": [
    "## Test Benchmark for MSFR - propotype\n",
    "- "
   ]
  }
 ],
 "metadata": {
  "kernelspec": {
   "display_name": ".conda",
   "language": "python",
   "name": "python3"
  },
  "language_info": {
   "name": "python",
   "version": "3.11.13"
  }
 },
 "nbformat": 4,
 "nbformat_minor": 5
}
